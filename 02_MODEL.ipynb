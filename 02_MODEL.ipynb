{
 "cells": [
  {
   "cell_type": "markdown",
   "metadata": {},
   "source": [
    "#### 0. Imports "
   ]
  },
  {
   "cell_type": "code",
   "execution_count": 4,
   "metadata": {
    "collapsed": true
   },
   "outputs": [],
   "source": [
    "from io import open\n",
    "import glob\n",
    "import unicodedata\n",
    "import string\n",
    "import pandas as pd\n",
    "import numpy as np\n",
    "import torch\n",
    "import torch.nn as nn\n",
    "from torch.autograd import Variable\n",
    "import random"
   ]
  },
  {
   "cell_type": "markdown",
   "metadata": {},
   "source": [
    "#### 1. Load words"
   ]
  },
  {
   "cell_type": "code",
   "execution_count": null,
   "metadata": {
    "collapsed": true
   },
   "outputs": [],
   "source": [
    "clean_data_path = 'data/dobre-slowa.txt'"
   ]
  },
  {
   "cell_type": "code",
   "execution_count": 5,
   "metadata": {
    "scrolled": true
   },
   "outputs": [
    {
     "name": "stdout",
     "output_type": "stream",
     "text": [
      "The shape of this dataset is  (1164,)\n"
     ]
    }
   ],
   "source": [
    "all_words = np.asarray(pd.read_csv(clean_data_path, sep=\" \", header=None).T)\n",
    "all_words = all_words.reshape(-1,)\n",
    "print(\"The shape of this dataset is \",np.shape(all_words))"
   ]
  },
  {
   "cell_type": "code",
   "execution_count": 119,
   "metadata": {
    "collapsed": true
   },
   "outputs": [],
   "source": [
    "all_words = np.array([word for word in all_words if type(word) is str]).T\n",
    "all_letters = \"\".join((set(str(set(list(set(all_words)))))))\n",
    "n_letters = len(all_letters) + 1 # Plus EOS marker\n"
   ]
  },
  {
   "cell_type": "code",
   "execution_count": 120,
   "metadata": {},
   "outputs": [
    {
     "data": {
      "text/plain": [
       "\"ŁS£EYĄÓU}W{GKŚFŻŹ-ÒML'HĘPADRJTŃOCIBN ,ZĆ\""
      ]
     },
     "execution_count": 120,
     "metadata": {},
     "output_type": "execute_result"
    }
   ],
   "source": [
    "all_letters"
   ]
  },
  {
   "cell_type": "code",
   "execution_count": 121,
   "metadata": {
    "collapsed": true
   },
   "outputs": [],
   "source": [
    "# all_letters = \"\"\n",
    "\n",
    "# for ch in all_words:\n",
    "#     if ch in all_letters:\n",
    "#         pass\n",
    "#     else:\n",
    "#         all_letters+=ch\n",
    "# # all_letters = [for ch in _all_words if ch is not in all_letters]"
   ]
  },
  {
   "cell_type": "code",
   "execution_count": 122,
   "metadata": {
    "collapsed": true,
    "scrolled": true
   },
   "outputs": [],
   "source": [
    "# remove_chars_list = [\",\",\"-\",\"£\",\"Ò\",\"[\",\"]\"]\n",
    "\n",
    "# for ch in remove_chars_list:\n",
    "#         all_letters.remove(ch)      \n",
    "        \n",
    "# n_letters = len(all_letters)"
   ]
  },
  {
   "cell_type": "code",
   "execution_count": 123,
   "metadata": {
    "collapsed": true
   },
   "outputs": [],
   "source": [
    "# # check that all words use characters within the range I defined [all_letters]\n",
    "\n",
    "\n",
    "# for _, word in enumerate(all_words, 0):\n",
    "# #     print(n, word)\n",
    "#     i = _\n",
    "#     if type(word) == str:\n",
    "#         all_words = np.delete(word, i, 0)\n",
    "#         i+=1"
   ]
  },
  {
   "cell_type": "code",
   "execution_count": 124,
   "metadata": {
    "collapsed": true
   },
   "outputs": [],
   "source": [
    "class RNN(nn.Module):\n",
    "    def __init__(self, input_size, hidden_size, output_size):\n",
    "        super(RNN, self).__init__()\n",
    "        self.hidden_size = hidden_size\n",
    "\n",
    "        self.i2h = nn.Linear(input_size + hidden_size, hidden_size)\n",
    "        self.i2o = nn.Linear(input_size + hidden_size, output_size)\n",
    "        self.o2o = nn.Linear(hidden_size + output_size, output_size)\n",
    "        self.dropout = nn.Dropout(0.1)\n",
    "        self.softmax = nn.LogSoftmax(dim=1)\n",
    "\n",
    "#     def forward(self, input, hidden):\n",
    "#         input_combined = torch.cat((input, hidden))\n",
    "#         input_combined = torch.cat((input, hidden), 1)\n",
    "\n",
    "#         hidden = self.i2h(input_combined)\n",
    "#         output = self.i2o(input_combined)\n",
    "#         output_combined = torch.cat((hidden, output), 1)\n",
    "#         output = self.o2o(output_combined)\n",
    "#         output = self.dropout(output)\n",
    "#         output = self.softmax(output)\n",
    "#         return output, hidden\n",
    "\n",
    "    def forward(self, input, hidden):\n",
    "        input_combined = torch.cat((input, hidden), 1)\n",
    "        hidden = self.i2h(input_combined)\n",
    "        output = self.i2o(input_combined)\n",
    "        output_combined = torch.cat((hidden, output), 1)\n",
    "        output = self.o2o(output_combined)\n",
    "        output = self.dropout(output)\n",
    "        output = self.softmax(output)\n",
    "        return output, hidden\n",
    "\n",
    "    def initHidden(self):\n",
    "        return Variable(torch.zeros(1, self.hidden_size))"
   ]
  },
  {
   "cell_type": "code",
   "execution_count": 125,
   "metadata": {
    "collapsed": true
   },
   "outputs": [],
   "source": [
    "def inputTensor(word):\n",
    "    '''\n",
    "    Creates a tensor of shape len(word), 1, n_letters \n",
    "    that one-hot encodes letters of each word'''\n",
    "    tensor = torch.zeros(len(word),1,n_letters)\n",
    "    \n",
    "    for n, letter in enumerate(word):\n",
    "        tensor[n][0][all_letters.find(letter)] = 1\n",
    "    \n",
    "    return tensor\n",
    "\n",
    "#test\n",
    "# inputTensor(\"abc\")"
   ]
  },
  {
   "cell_type": "code",
   "execution_count": 126,
   "metadata": {
    "collapsed": true
   },
   "outputs": [],
   "source": [
    "# word = \"abc\"\n",
    "\n",
    "# tensor = np.zeros([len(word),n_letters])\n",
    "\n",
    "# for n, letter in enumerate(word):\n",
    "#     tensor[n][all_letters.find(letter)] = 1\n",
    "\n",
    "# tensor"
   ]
  },
  {
   "cell_type": "code",
   "execution_count": 127,
   "metadata": {},
   "outputs": [
    {
     "data": {
      "text/plain": [
       "\n",
       "(0 ,.,.) = \n",
       "\n",
       "Columns 0 to 18 \n",
       "    0   0   0   0   0   0   0   0   0   0   0   0   0   0   0   0   0   0   0\n",
       "\n",
       "Columns 19 to 37 \n",
       "    0   0   0   0   0   0   0   0   0   0   0   0   0   0   0   0   0   0   0\n",
       "\n",
       "Columns 38 to 40 \n",
       "    0   0   1\n",
       "\n",
       "(1 ,.,.) = \n",
       "\n",
       "Columns 0 to 18 \n",
       "    0   0   0   0   0   0   0   0   0   0   0   0   0   0   0   0   0   0   0\n",
       "\n",
       "Columns 19 to 37 \n",
       "    0   0   0   0   0   0   0   0   0   0   0   0   0   0   0   0   0   0   0\n",
       "\n",
       "Columns 38 to 40 \n",
       "    0   0   1\n",
       "\n",
       "(2 ,.,.) = \n",
       "\n",
       "Columns 0 to 18 \n",
       "    0   0   0   0   0   0   0   0   0   0   0   0   0   0   0   0   0   0   0\n",
       "\n",
       "Columns 19 to 37 \n",
       "    0   0   0   0   0   0   0   0   0   0   0   0   0   0   0   0   0   0   0\n",
       "\n",
       "Columns 38 to 40 \n",
       "    0   0   1\n",
       "[torch.FloatTensor of size 3x1x41]"
      ]
     },
     "execution_count": 127,
     "metadata": {},
     "output_type": "execute_result"
    }
   ],
   "source": [
    "inputTensor(\"abc\")\n"
   ]
  },
  {
   "cell_type": "code",
   "execution_count": 128,
   "metadata": {
    "collapsed": true
   },
   "outputs": [],
   "source": [
    "def targetTensor(word):\n",
    "    letter_indexes = [all_letters.find(word[li]) for li in range(1, len(word))] # finds the index of each letter of a word and puts it in a list \n",
    "    letter_indexes.append(n_letters - 1) # adds EOS character at the end so the network can learn where words stop\n",
    "    \n",
    "    return torch.LongTensor(letter_indexes)"
   ]
  },
  {
   "cell_type": "code",
   "execution_count": 129,
   "metadata": {
    "collapsed": true
   },
   "outputs": [],
   "source": [
    "# letter_indexes = [all_letters.find(word[li]) for li in range(1, len(word))] \n",
    "# letter_indexes.append(n_letters - 1) # EOS\n",
    "# letter_indexes"
   ]
  },
  {
   "cell_type": "code",
   "execution_count": 130,
   "metadata": {
    "collapsed": true
   },
   "outputs": [],
   "source": [
    "# Make category, input, and target tensors from a random category, line pair\n",
    "def randomTrainingExample():\n",
    "    word = np.random.choice(all_words)\n",
    "\n",
    "    input_line_tensor = Variable(inputTensor(word))\n",
    "    target_line_tensor = Variable(targetTensor(word))\n",
    "    \n",
    "    return input_line_tensor, target_line_tensor"
   ]
  },
  {
   "cell_type": "code",
   "execution_count": 131,
   "metadata": {
    "collapsed": true
   },
   "outputs": [],
   "source": [
    "input_line_tensor, target_line_tensor = randomTrainingExample()"
   ]
  },
  {
   "cell_type": "code",
   "execution_count": 132,
   "metadata": {},
   "outputs": [
    {
     "data": {
      "text/plain": [
       "7"
      ]
     },
     "execution_count": 132,
     "metadata": {},
     "output_type": "execute_result"
    }
   ],
   "source": [
    "target_line_tensor.size()[0]"
   ]
  },
  {
   "cell_type": "code",
   "execution_count": 133,
   "metadata": {
    "collapsed": true
   },
   "outputs": [],
   "source": [
    "#define the loss function\n",
    "criterion = nn.NLLLoss()\n",
    "learning_rate = 0.0005"
   ]
  },
  {
   "cell_type": "code",
   "execution_count": 134,
   "metadata": {
    "collapsed": true
   },
   "outputs": [],
   "source": [
    "def train(input_line_tensor, target_line_tensor):\n",
    "    hidden = rnn.initHidden()\n",
    "\n",
    "    rnn.zero_grad()\n",
    "\n",
    "    loss = 0\n",
    "\n",
    "    for i in range(input_line_tensor.size()[0]):\n",
    "#         output, hidden = rnn(1, input_line_tensor[i], hidden)\n",
    "        output, hidden = rnn(input_line_tensor[i], hidden)\n",
    "        loss += criterion(output, target_line_tensor[i])\n",
    "\n",
    "    loss.backward()\n",
    "\n",
    "    for p in rnn.parameters():\n",
    "        p.data.add_(-learning_rate, p.grad.data)\n",
    "\n",
    "    return output, loss.data[0] / input_line_tensor.size()[0]"
   ]
  },
  {
   "cell_type": "code",
   "execution_count": 135,
   "metadata": {
    "collapsed": true
   },
   "outputs": [],
   "source": [
    "import time\n",
    "import math\n",
    "\n",
    "def timeSince(since):\n",
    "    now = time.time()\n",
    "    s = now - since\n",
    "    m = math.floor(s / 60)\n",
    "    s -= m * 60\n",
    "    return '%dm %ds' % (m, s)"
   ]
  },
  {
   "cell_type": "code",
   "execution_count": 136,
   "metadata": {
    "scrolled": true
   },
   "outputs": [
    {
     "name": "stdout",
     "output_type": "stream",
     "text": [
      "0m 18s (5000 5%) 2.8494\n",
      "0m 36s (10000 10%) 2.6956\n",
      "0m 54s (15000 15%) 2.7291\n",
      "1m 12s (20000 20%) 2.3491\n",
      "1m 30s (25000 25%) 3.0178\n",
      "1m 48s (30000 30%) 2.3648\n",
      "2m 5s (35000 35%) 2.2196\n",
      "2m 23s (40000 40%) 3.0767\n",
      "2m 41s (45000 45%) 2.2420\n",
      "2m 58s (50000 50%) 2.7659\n",
      "3m 16s (55000 55%) 2.1741\n",
      "3m 34s (60000 60%) 2.6731\n",
      "3m 52s (65000 65%) 3.0617\n",
      "4m 10s (70000 70%) 3.1600\n",
      "4m 27s (75000 75%) 2.1098\n",
      "4m 45s (80000 80%) 2.4026\n",
      "5m 2s (85000 85%) 2.9225\n",
      "5m 20s (90000 90%) 1.9190\n",
      "5m 38s (95000 95%) 1.8451\n"
     ]
    }
   ],
   "source": [
    "rnn = RNN(n_letters, 128, n_letters)\n",
    "\n",
    "n_iters = 100000\n",
    "print_every = 5000\n",
    "plot_every = 500\n",
    "all_losses = []\n",
    "total_loss = 0 # Reset every plot_every iters\n",
    "\n",
    "start = time.time()\n",
    "\n",
    "for iter in range(1, n_iters):\n",
    "    output, loss = train(*randomTrainingExample())\n",
    "\n",
    "    total_loss += loss\n",
    "\n",
    "    if iter % print_every == 0:\n",
    "        print('%s (%d %d%%) %.4f' % (timeSince(start), iter, iter / n_iters * 100, loss))\n",
    "\n",
    "    if iter % plot_every == 0:\n",
    "        all_losses.append(total_loss / plot_every)\n",
    "        total_loss = 0\n"
   ]
  },
  {
   "cell_type": "code",
   "execution_count": 147,
   "metadata": {
    "collapsed": true
   },
   "outputs": [],
   "source": [
    "max_length = 20\n",
    "\n",
    "def sample(start_letter='A'):\n",
    "    input = Variable(inputTensor(start_letter))\n",
    "    hidden = rnn.initHidden()\n",
    "\n",
    "    output_name = start_letter\n",
    "\n",
    "    for i in range(max_length):\n",
    "        output, hidden = rnn(input[0], hidden)\n",
    "        topv, topi = output.data.topk(1)\n",
    "        topi = topi[0][0]\n",
    "        if topi == n_letters - 1:\n",
    "            break\n",
    "        else:\n",
    "            letter = all_letters[topi]\n",
    "            output_name += letter\n",
    "        input = Variable(inputTensor(letter))\n",
    "\n",
    "    return output_name\n",
    "\n",
    "# Get multiple samples multiple starting letters\n",
    "def samples(start_letters='ABC'):\n",
    "    for start_letter in start_letters:\n",
    "        print(sample(category, start_letter))"
   ]
  },
  {
   "cell_type": "code",
   "execution_count": 148,
   "metadata": {
    "collapsed": true
   },
   "outputs": [],
   "source": [
    "names = []\n",
    "for i in range(0,100):\n",
    "    name = sample(random.choice(all_letters[:26]))\n",
    "\n",
    "    names.append(name)"
   ]
  },
  {
   "cell_type": "code",
   "execution_count": 149,
   "metadata": {
    "collapsed": true
   },
   "outputs": [],
   "source": [
    "# 1. characters to delete from list of letters and list of words [\"'\", \"-\"]\n",
    "# 2. get more words from the chat\n",
    "# 3. get train/validation curves going (from pytorch on github)"
   ]
  },
  {
   "cell_type": "code",
   "execution_count": 150,
   "metadata": {
    "scrolled": false
   },
   "outputs": [
    {
     "data": {
      "text/plain": [
       "{\"'ARATORA\",\n",
       " \"'AROTA\",\n",
       " \"'AROTER\",\n",
       " '-USTON',\n",
       " '-USTONA',\n",
       " '-USZA',\n",
       " 'ABURA',\n",
       " 'ARGANT',\n",
       " 'ELIEK',\n",
       " 'ERBALANIE',\n",
       " 'ERBALATA',\n",
       " 'EROWORA',\n",
       " 'FARDEK',\n",
       " 'FAROTAR',\n",
       " 'FAROTER',\n",
       " 'FAROTERA',\n",
       " 'GANTOR',\n",
       " 'GANTORA',\n",
       " 'GASZANA',\n",
       " 'HABASTARA',\n",
       " 'HARAPA',\n",
       " 'HARATARA',\n",
       " 'KARATA',\n",
       " 'KURA',\n",
       " 'LAPA',\n",
       " 'MARONE',\n",
       " 'PARANIER',\n",
       " 'SZERZEK',\n",
       " 'URA',\n",
       " 'URDASZAKA',\n",
       " 'WIARONA',\n",
       " 'WIARONITA',\n",
       " 'YMARONA',\n",
       " '{ARATARA',\n",
       " '{ARATARANT',\n",
       " '{ARATARAS',\n",
       " '}ABARA',\n",
       " '}URA',\n",
       " '}URAST',\n",
       " '}URESTAR',\n",
       " '£ABIERA',\n",
       " '£APA',\n",
       " '£APATAR',\n",
       " '£APIER',\n",
       " '£APIORON',\n",
       " 'ÒUSZA',\n",
       " 'ÒUSZY',\n",
       " 'ÓRMANIA',\n",
       " 'ÓRZAPA',\n",
       " 'ÓRZASZA',\n",
       " 'ĄKAROTEK',\n",
       " 'ĄLENIER',\n",
       " 'ĄLIA',\n",
       " 'ĄLIEK',\n",
       " 'ĘKA',\n",
       " 'ĘRA',\n",
       " 'ŁAKARA',\n",
       " 'ŁAPA',\n",
       " 'ŁAPAT',\n",
       " 'ŁAPATA',\n",
       " 'ŚLIEKA',\n",
       " 'ŚLIET',\n",
       " 'ŹUSTA',\n",
       " 'ŹUSZA',\n",
       " 'ŹUSZANA',\n",
       " 'ŻARA',\n",
       " 'ŻERA'}"
      ]
     },
     "execution_count": 150,
     "metadata": {},
     "output_type": "execute_result"
    }
   ],
   "source": [
    "set(names)"
   ]
  },
  {
   "cell_type": "code",
   "execution_count": 152,
   "metadata": {},
   "outputs": [
    {
     "data": {
      "text/plain": [
       "[3.646141505305164,\n",
       " 3.374614871917972,\n",
       " 3.1494420618421253,\n",
       " 3.087653164578818,\n",
       " 3.085079353526094,\n",
       " 3.0697253644472307,\n",
       " 3.0174152024801386,\n",
       " 3.005689270304683,\n",
       " 2.974623954750073,\n",
       " 2.972647937347443,\n",
       " 2.9692522529170247,\n",
       " 2.9452913924219084,\n",
       " 2.948169062657812,\n",
       " 2.9195080995621954,\n",
       " 2.9240061042781456,\n",
       " 2.9174387143363574,\n",
       " 2.874018387477622,\n",
       " 2.8625354365966738,\n",
       " 2.861607991249628,\n",
       " 2.8349373824650357,\n",
       " 2.826796599397366,\n",
       " 2.8286069992677394,\n",
       " 2.82763317059659,\n",
       " 2.8195197922076334,\n",
       " 2.7991198958393717,\n",
       " 2.815273891991436,\n",
       " 2.7994589371063086,\n",
       " 2.792246321133117,\n",
       " 2.740881548675072,\n",
       " 2.7583068777217563,\n",
       " 2.742113296814816,\n",
       " 2.7517712165829105,\n",
       " 2.724739434037693,\n",
       " 2.7267178177772156,\n",
       " 2.698411558118341,\n",
       " 2.716265667802491,\n",
       " 2.6983360394214144,\n",
       " 2.685111469778659,\n",
       " 2.69637869038197,\n",
       " 2.6780475400534276,\n",
       " 2.6860011650851807,\n",
       " 2.6640460751071897,\n",
       " 2.6785044231865696,\n",
       " 2.691172421434565,\n",
       " 2.6463076277403252,\n",
       " 2.608524072771503,\n",
       " 2.6414688083454623,\n",
       " 2.634821844676923,\n",
       " 2.621357308554063,\n",
       " 2.6291506272761405,\n",
       " 2.6277949784396744,\n",
       " 2.658592130287073,\n",
       " 2.6141735214126314,\n",
       " 2.635441304151236,\n",
       " 2.585797238271259,\n",
       " 2.6037051216498592,\n",
       " 2.600864706663079,\n",
       " 2.618170098114432,\n",
       " 2.5643056126818276,\n",
       " 2.583503809064285,\n",
       " 2.551342419247714,\n",
       " 2.5807392249379437,\n",
       " 2.5744393422474015,\n",
       " 2.5548904613614836,\n",
       " 2.5606016257789097,\n",
       " 2.5513112308636,\n",
       " 2.5637394787156684,\n",
       " 2.557716559188849,\n",
       " 2.5296034791546633,\n",
       " 2.507345635381722,\n",
       " 2.537593469887491,\n",
       " 2.53315356990911,\n",
       " 2.498782337201039,\n",
       " 2.5322251298656546,\n",
       " 2.501944878863972,\n",
       " 2.541843239089668,\n",
       " 2.5187416222367363,\n",
       " 2.4937692668014093,\n",
       " 2.514735804307096,\n",
       " 2.527630369842187,\n",
       " 2.5045155730236126,\n",
       " 2.49251045058465,\n",
       " 2.47928397517686,\n",
       " 2.535046932795869,\n",
       " 2.498803842864292,\n",
       " 2.502706752901016,\n",
       " 2.4738268201916203,\n",
       " 2.485762598580547,\n",
       " 2.524654106558853,\n",
       " 2.429995171869072,\n",
       " 2.483913303672264,\n",
       " 2.505422183413394,\n",
       " 2.5274422044926124,\n",
       " 2.4807688734052413,\n",
       " 2.457921584894134,\n",
       " 2.484203816579138,\n",
       " 2.4182447405863705,\n",
       " 2.4953984193112606,\n",
       " 2.5016016956043483,\n",
       " 2.458433115248947,\n",
       " 2.494489950580425,\n",
       " 2.459226392545151,\n",
       " 2.4409718433708028,\n",
       " 2.483897709701189,\n",
       " 2.4607620487236117,\n",
       " 2.4404573200633037,\n",
       " 2.459123146837339,\n",
       " 2.469770582816681,\n",
       " 2.42723419994799,\n",
       " 2.463985308920384,\n",
       " 2.4416032272291166,\n",
       " 2.4141212921035766,\n",
       " 2.431157098703482,\n",
       " 2.445970378141542,\n",
       " 2.4564432657419024,\n",
       " 2.41515631055552,\n",
       " 2.4597364291459676,\n",
       " 2.4273260237495187,\n",
       " 2.4386160484924746,\n",
       " 2.4555962552849913,\n",
       " 2.444303918207413,\n",
       " 2.4624259075217236,\n",
       " 2.400527364889724,\n",
       " 2.406280198731622,\n",
       " 2.419173154677614,\n",
       " 2.4508744770524835,\n",
       " 2.457824174670496,\n",
       " 2.426864459806075,\n",
       " 2.4430198128907255,\n",
       " 2.416087548787117,\n",
       " 2.3989235037601992,\n",
       " 2.4196873881939256,\n",
       " 2.4037020274661813,\n",
       " 2.3987317422911016,\n",
       " 2.3887831494835132,\n",
       " 2.4031331563880407,\n",
       " 2.412465880040851,\n",
       " 2.403107874060305,\n",
       " 2.4042683288121927,\n",
       " 2.3763152458788626,\n",
       " 2.3865803653768167,\n",
       " 2.4227818054583024,\n",
       " 2.389359165436441,\n",
       " 2.400498464583571,\n",
       " 2.3724708453832664,\n",
       " 2.3852163748246857,\n",
       " 2.4315926338720106,\n",
       " 2.3511704374358695,\n",
       " 2.3575137820408227,\n",
       " 2.355027935430873,\n",
       " 2.393506991508756,\n",
       " 2.393166151427742,\n",
       " 2.4131571307524546,\n",
       " 2.3944356412524606,\n",
       " 2.408136076939641,\n",
       " 2.345436779462398,\n",
       " 2.366941010865716,\n",
       " 2.3911860492003747,\n",
       " 2.368388159344224,\n",
       " 2.3900020045421213,\n",
       " 2.371966285767471,\n",
       " 2.35191689135289,\n",
       " 2.3742002892666214,\n",
       " 2.376870496640383,\n",
       " 2.386464774089803,\n",
       " 2.3346735474069815,\n",
       " 2.370444396096065,\n",
       " 2.354620640981231,\n",
       " 2.328472987425789,\n",
       " 2.345840579618314,\n",
       " 2.3428855599346967,\n",
       " 2.3481865205569075,\n",
       " 2.318663218207522,\n",
       " 2.307001212007863,\n",
       " 2.348911487955615,\n",
       " 2.339698886047589,\n",
       " 2.343129226965754,\n",
       " 2.3498205591797645,\n",
       " 2.3514832990402392,\n",
       " 2.3761561721173536,\n",
       " 2.362502657820347,\n",
       " 2.331325811989362,\n",
       " 2.313239916579857,\n",
       " 2.349898312020148,\n",
       " 2.3890714277670995,\n",
       " 2.3594104296452914,\n",
       " 2.3270386287543547,\n",
       " 2.3094874226923565,\n",
       " 2.3896723827109105,\n",
       " 2.3357630816619617,\n",
       " 2.322224298107412,\n",
       " 2.3267124068912635,\n",
       " 2.364070079939884,\n",
       " 2.2980628397901985,\n",
       " 2.343833117622507,\n",
       " 2.3168079047306387,\n",
       " 2.337186634487752,\n",
       " 2.3519061252642057,\n",
       " 2.3124332538738765]"
      ]
     },
     "execution_count": 152,
     "metadata": {},
     "output_type": "execute_result"
    }
   ],
   "source": [
    "all_losses"
   ]
  },
  {
   "cell_type": "code",
   "execution_count": 151,
   "metadata": {},
   "outputs": [
    {
     "data": {
      "image/png": "[encoded data removed]",
      "text/plain": [
       "<matplotlib.figure.Figure at 0x11810c978>"
      ]
     },
     "metadata": {},
     "output_type": "display_data"
    }
   ],
   "source": [
    "import matplotlib.pyplot as plt\n",
    "import matplotlib.ticker as ticker\n",
    "\n",
    "plt.figure()\n",
    "plt.plot(all_losses)\n",
    "plt.show()"
   ]
  },
  {
   "cell_type": "code",
   "execution_count": null,
   "metadata": {
    "collapsed": true
   },
   "outputs": [],
   "source": []
  }
 ],
 "metadata": {
  "kernelspec": {
   "display_name": "Python 3",
   "language": "python",
   "name": "python3"
  },
  "language_info": {
   "codemirror_mode": {
    "name": "ipython",
    "version": 3
   },
   "file_extension": ".py",
   "mimetype": "text/x-python",
   "name": "python",
   "nbconvert_exporter": "python",
   "pygments_lexer": "ipython3",
   "version": "3.6.1"
  }
 },
 "nbformat": 4,
 "nbformat_minor": 2
}
